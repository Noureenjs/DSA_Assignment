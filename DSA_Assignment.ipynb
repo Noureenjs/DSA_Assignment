{
 "cells": [
  {
   "cell_type": "markdown",
   "id": "e85c1aca",
   "metadata": {},
   "source": [
    "# 1. Complete the following code to find the area of an equilateral triangle. Output should be as displayed\n",
    "    "
   ]
  },
  {
   "cell_type": "code",
   "execution_count": 1,
   "id": "6d965154",
   "metadata": {},
   "outputs": [
    {
     "name": "stdout",
     "output_type": "stream",
     "text": [
      "Enter the side of the equilateral triangle: 4\n",
      "Area = 6.928203230275509\n"
     ]
    }
   ],
   "source": [
    "import math\n",
    "side = float(input(\"Enter the side of the equilateral triangle: \"))\n",
    "area = ((math.sqrt(3))/4)*pow(side,2)\n",
    "print(\"Area =\" , area)"
   ]
  },
  {
   "cell_type": "markdown",
   "id": "813ce669",
   "metadata": {},
   "source": [
    "# 2. Write a program to count the number of each characters in a string"
   ]
  },
  {
   "cell_type": "code",
   "execution_count": 2,
   "id": "0a57c774",
   "metadata": {},
   "outputs": [
    {
     "name": "stdout",
     "output_type": "stream",
     "text": [
      "9\n"
     ]
    }
   ],
   "source": [
    "string = \"perimeter\"\n",
    "count=0\n",
    "for i in string:\n",
    "  count+=1\n",
    "print(count)"
   ]
  },
  {
   "cell_type": "markdown",
   "id": "305694b8",
   "metadata": {},
   "source": [
    "# 3. Write a program to find the area and perimeter of a rectangle using functions"
   ]
  },
  {
   "cell_type": "code",
   "execution_count": 3,
   "id": "d29d52c3",
   "metadata": {},
   "outputs": [
    {
     "name": "stdout",
     "output_type": "stream",
     "text": [
      "enter length:-20\n",
      "enter breadth:-1\n",
      "20\n"
     ]
    }
   ],
   "source": [
    "def area_rectangle(l,b):\n",
    "  return (l*b)\n",
    "\n",
    "length = int(input(\"enter length:-\"))\n",
    "breadth = int(input(\"enter breadth:-\"))\n",
    "\n",
    "print(area_rectangle(length, breadth))"
   ]
  },
  {
   "cell_type": "markdown",
   "id": "64471305",
   "metadata": {},
   "source": [
    "# 4. Write a program to print the fibonacci series till a specified number\n"
   ]
  },
  {
   "cell_type": "code",
   "execution_count": 4,
   "id": "3461b324",
   "metadata": {},
   "outputs": [
    {
     "name": "stdout",
     "output_type": "stream",
     "text": [
      "enter the count:-3\n",
      "0\n",
      "1\n",
      "1\n"
     ]
    }
   ],
   "source": [
    "count =int(input(\"enter the count:-\"))\n",
    "n1 , n2 = 0 ,1\n",
    "for i in range (count):\n",
    "  print(n1)\n",
    "  nth = n1+n2\n",
    "  n1 =n2\n",
    "  n2 =nth"
   ]
  },
  {
   "cell_type": "markdown",
   "id": "f2894a1f",
   "metadata": {},
   "source": [
    "# 5. Complete the following code to find the minimum of 3 number using cinditional statements. Output should be as displayed\n"
   ]
  },
  {
   "cell_type": "code",
   "execution_count": 5,
   "id": "66b750bc",
   "metadata": {},
   "outputs": [
    {
     "name": "stdout",
     "output_type": "stream",
     "text": [
      "Enter three numbers followed by  : 1 3 2\n",
      "First number : 1\n",
      "Second number : 3\n",
      "Third number : 2\n",
      "1  is smallest\n"
     ]
    }
   ],
   "source": [
    "a,b,c = input(\"Enter three numbers followed by  : \").split()\n",
    "\n",
    "print(\"First number :\",a)\n",
    "print(\"Second number :\",b)\n",
    "print(\"Third number :\",c)\n",
    "a =int(a)\n",
    "b=int(b)\n",
    "c=int(c)\n",
    "if a == b == c:\n",
    "    print(\"Entered numbers are equal!!!\")\n",
    "elif b > a < c:\n",
    "    print(a,\" is smallest\")\n",
    "elif c > b < a:\n",
    "    print(b,\" is smallest\")\n",
    "elif a > c < b:\n",
    "    print(c,\" is smallest\")"
   ]
  },
  {
   "cell_type": "markdown",
   "id": "25448774",
   "metadata": {},
   "source": [
    "# 6. Write a program to print star pyramind. The number of rows should be taken as input from the user\n"
   ]
  },
  {
   "cell_type": "code",
   "execution_count": 6,
   "id": "198242aa",
   "metadata": {},
   "outputs": [
    {
     "name": "stdout",
     "output_type": "stream",
     "text": [
      "enter the num of rows:5\n",
      "    * \n",
      "   * * \n",
      "  * * * \n",
      " * * * * \n",
      "* * * * * \n"
     ]
    }
   ],
   "source": [
    "rows = int(input(\"enter the num of rows:\"))\n",
    "for i in range(rows):\n",
    "  for j in range(rows -i-1):\n",
    "    print(end =\" \")\n",
    "  for j in range (i+1):\n",
    "    print(\"*\" , end =\" \")\n",
    "  print()"
   ]
  },
  {
   "cell_type": "markdown",
   "id": "b74a62fb",
   "metadata": {},
   "source": [
    "# 7. Complete the following code to convert hour into seconds. Output should be as displayed"
   ]
  },
  {
   "cell_type": "code",
   "execution_count": 7,
   "id": "7d22d0ef",
   "metadata": {},
   "outputs": [
    {
     "name": "stdout",
     "output_type": "stream",
     "text": [
      " enter the time in hours :-2\n",
      "2  Hour is equal to 7200  Seconds\n"
     ]
    }
   ],
   "source": [
    "def to_seconds(t):\n",
    "    t =t*3600\n",
    "    return t\n",
    "time_in_hours = int(input(\" enter the time in hours :-\"))\n",
    "print(time_in_hours ,\" Hour is equal to\" ,to_seconds(time_in_hours) ,\" Seconds\")"
   ]
  },
  {
   "cell_type": "markdown",
   "id": "a7b014f3",
   "metadata": {},
   "source": [
    "# 8. Write a program to print multiplication table as below"
   ]
  },
  {
   "cell_type": "code",
   "execution_count": 12,
   "id": "174e425c",
   "metadata": {},
   "outputs": [
    {
     "name": "stdout",
     "output_type": "stream",
     "text": [
      "1 x 6  = 6\n",
      "2 x 6  = 6\n",
      "3 x 6  = 6\n",
      "4 x 6  = 6\n",
      "5 x 6  = 6\n",
      "6 x 6  = 6\n",
      "7 x 6  = 6\n",
      "8 x 6  = 6\n",
      "9 x 6  = 6\n",
      "10 x 6  = 6\n"
     ]
    }
   ],
   "source": [
    "for i in range (1,11):\n",
    "  multiply = 1*6\n",
    "  print( i ,\"x\" ,\"6\" ,\" =\" , multiply)"
   ]
  },
  {
   "cell_type": "markdown",
   "id": "976478bb",
   "metadata": {},
   "source": [
    "# 9. Write a program to take your 5 favorite food as list and print each as 'I like Biriyani'\n"
   ]
  },
  {
   "cell_type": "code",
   "execution_count": 14,
   "id": "283ca354",
   "metadata": {},
   "outputs": [
    {
     "name": "stdout",
     "output_type": "stream",
     "text": [
      "Enter your favourite food list followed by  : Orange apple kiwi\n",
      "I like Orange\n",
      "I like apple\n",
      "i like kiwi\n"
     ]
    }
   ],
   "source": [
    "a,b,c = input(\"Enter your favourite food list followed by  : \").split()\n",
    "print(\"I like\" , a)\n",
    "print(\"I like\" ,b)\n",
    "print(\"i like\", c)"
   ]
  },
  {
   "cell_type": "markdown",
   "id": "ce1c928b",
   "metadata": {},
   "source": [
    "# 10. Find error(s) in the following code(if any) and rewrite code."
   ]
  },
  {
   "cell_type": "code",
   "execution_count": 15,
   "id": "0ae5d554",
   "metadata": {},
   "outputs": [
    {
     "name": "stdout",
     "output_type": "stream",
     "text": [
      "Enter value of x:5\n",
      "They are unequal\n",
      "They are unequal\n",
      "They are unequal\n",
      "They are unequal\n",
      "They are unequal\n",
      "They are equal\n",
      "They are unequal\n",
      "They are unequal\n",
      "They are unequal\n",
      "They are unequal\n"
     ]
    }
   ],
   "source": [
    "x=int(input(\"Enter value of x:\"))\n",
    "for y in range(0,10):\n",
    "     if x==y:\n",
    "        print(\"They are equal\")\n",
    "     else:\n",
    "        print( \"They are unequal\")"
   ]
  },
  {
   "cell_type": "code",
   "execution_count": null,
   "id": "dbee9222",
   "metadata": {},
   "outputs": [],
   "source": []
  }
 ],
 "metadata": {
  "kernelspec": {
   "display_name": "Python 3",
   "language": "python",
   "name": "python3"
  },
  "language_info": {
   "codemirror_mode": {
    "name": "ipython",
    "version": 3
   },
   "file_extension": ".py",
   "mimetype": "text/x-python",
   "name": "python",
   "nbconvert_exporter": "python",
   "pygments_lexer": "ipython3",
   "version": "3.8.8"
  }
 },
 "nbformat": 4,
 "nbformat_minor": 5
}
